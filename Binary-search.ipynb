{
 "cells": [
  {
   "cell_type": "code",
   "execution_count": 1,
   "metadata": {},
   "outputs": [
    {
     "name": "stdout",
     "output_type": "stream",
     "text": [
      "3\n",
      "-1\n"
     ]
    }
   ],
   "source": [
    "# Implementation of Binary Search in Python\n",
    "class Solution:\n",
    "    def binarysearch(self, arr, k):\n",
    "        # Initialize the left and right pointers\n",
    "        left, right = 0, len(arr) - 1\n",
    "        \n",
    "        # Perform binary search\n",
    "        while left <= right:\n",
    "            mid = left + (right - left) // 2  # Calculate the middle index\n",
    "            \n",
    "            # Check if k is at mid\n",
    "            if arr[mid] == k:\n",
    "                return mid  # Return the index if found\n",
    "            elif arr[mid] < k:\n",
    "                left = mid + 1  # Search in the right half\n",
    "            else:\n",
    "                right = mid - 1  # Search in the left half\n",
    "        \n",
    "        return -1  # Return -1 if k is not found\n",
    "\n",
    "# Example usage\n",
    "solution = Solution()\n",
    "print(solution.binarysearch([1, 2, 3, 4, 5], 4))  # Output: 3\n",
    "print(solution.binarysearch([11, 22, 33, 44, 55], 445))  # Output: -1\n"
   ]
  }
 ],
 "metadata": {
  "kernelspec": {
   "display_name": "Python 3",
   "language": "python",
   "name": "python3"
  },
  "language_info": {
   "codemirror_mode": {
    "name": "ipython",
    "version": 3
   },
   "file_extension": ".py",
   "mimetype": "text/x-python",
   "name": "python",
   "nbconvert_exporter": "python",
   "pygments_lexer": "ipython3",
   "version": "3.12.3"
  }
 },
 "nbformat": 4,
 "nbformat_minor": 2
}
