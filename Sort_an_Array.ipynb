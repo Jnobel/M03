{
 "cells": [
  {
   "cell_type": "markdown",
   "metadata": {},
   "source": [
    "## Sorting an Array of 0s, 1s, and 2s Using the Dutch National Flag Algorithm\n",
    "\n",
    "This notebook demonstrates sorting an array consisting of 0s, 1s, and 2s using the Dutch National Flag algorithm. The algorithm efficiently sorts the array in a single pass with a time complexity of O(n) and space complexity of O(1).\n",
    "\n",
    "### Implementation\n",
    "Below is the Python implementation of the Dutch National Flag algorithm.\n"
   ]
  },
  {
   "cell_type": "code",
   "execution_count": 1,
   "metadata": {},
   "outputs": [
    {
     "name": "stdout",
     "output_type": "stream",
     "text": [
      "0 0 1 1 2 2 "
     ]
    }
   ],
   "source": [
    "# Class definition and sorting function\n",
    "class Solution:\n",
    "    # Function to sort an array of 0s, 1s, and 2s\n",
    "    @staticmethod\n",
    "    def sort012(arr):\n",
    "        n = len(arr)\n",
    "        lo = 0\n",
    "        hi = n - 1\n",
    "        mid = 0\n",
    "\n",
    "        # Iterate till all the elements are sorted\n",
    "        while mid <= hi:\n",
    "            if arr[mid] == 0:\n",
    "                arr[lo], arr[mid] = arr[mid], arr[lo]\n",
    "                lo += 1\n",
    "                mid += 1\n",
    "            elif arr[mid] == 1:\n",
    "                mid += 1\n",
    "            else:\n",
    "                arr[mid], arr[hi] = arr[hi], arr[mid]\n",
    "                hi -= 1\n",
    "\n",
    "        return arr\n",
    "\n",
    "# Example usage\n",
    "arr = [0, 1, 2, 0, 1, 2]\n",
    "arr = Solution.sort012(arr)\n",
    "\n",
    "# Output the sorted array\n",
    "for x in arr:\n",
    "    print(x, end=\" \")\n"
   ]
  },
  {
   "cell_type": "markdown",
   "metadata": {},
   "source": [
    "### Explanation\n",
    "- **Dutch National Flag Algorithm**: The algorithm uses three pointers: `lo`, `mid`, and `hi` to maintain the sorting order of the elements.\n",
    "- **Time Complexity**: The algorithm sorts the array in linear time, O(n).\n",
    "- **Space Complexity**: The space complexity is O(1) since no extra space is used.\n",
    "\n",
    "### Output\n",
    "The output of the algorithm for the input array `[0, 1, 2, 0, 1, 2]` is:\n"
   ]
  }
 ],
 "metadata": {
  "kernelspec": {
   "display_name": "Python 3",
   "language": "python",
   "name": "python3"
  },
  "language_info": {
   "codemirror_mode": {
    "name": "ipython",
    "version": 3
   },
   "file_extension": ".py",
   "mimetype": "text/x-python",
   "name": "python",
   "nbconvert_exporter": "python",
   "pygments_lexer": "ipython3",
   "version": "3.12.3"
  }
 },
 "nbformat": 4,
 "nbformat_minor": 2
}
